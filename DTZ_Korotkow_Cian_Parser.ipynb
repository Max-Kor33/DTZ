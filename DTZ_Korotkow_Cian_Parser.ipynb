{
 "cells": [
  {
   "cell_type": "code",
   "execution_count": 1,
   "metadata": {},
   "outputs": [],
   "source": [
    "#загрузка необходимых библиотек\n",
    "import requests\n",
    "from bs4 import BeautifulSoup\n",
    "import csv\n",
    "import pandas as pd\n",
    "import numpy as np\n",
    "import matplotlib.pyplot as plt\n",
    "import seaborn as sns\n",
    "from tqdm import tqdm"
   ]
  },
  {
   "cell_type": "markdown",
   "metadata": {},
   "source": [
    "# Парсинг данных по квартирам во Владимирской области"
   ]
  },
  {
   "cell_type": "code",
   "execution_count": 2,
   "metadata": {},
   "outputs": [],
   "source": [
    "url_st = 'https://vladimir.cian.ru/cat.php?deal_type=sale&engine_version=2&maxtarea=99&offer_type=flat&p='\n",
    "url_end = '&region=4564&room1=1&room2=1&room3=1&room4=1&room5=1&room6=1'\n"
   ]
  },
  {
   "cell_type": "code",
   "execution_count": 3,
   "metadata": {},
   "outputs": [],
   "source": [
    "urls = []\n",
    "ats = []\n",
    "for i in range(1,55):\n",
    "    url = requests.get(url_st+str(i)+url_end)\n",
    "    html = url.text\n",
    "    bs = BeautifulSoup(html, 'lxml')\n",
    "    aTags = bs.find_all(\"a\",class_=\"_93444fe79c--link--39cNw\")\n",
    "    ats.append(aTags)\n",
    "    "
   ]
  },
  {
   "cell_type": "code",
   "execution_count": 4,
   "metadata": {},
   "outputs": [],
   "source": [
    "for a in ats:\n",
    "    for i in a:\n",
    "        urls.append(i.get('href'))"
   ]
  },
  {
   "cell_type": "code",
   "execution_count": 5,
   "metadata": {},
   "outputs": [
    {
     "data": {
      "text/plain": [
       "1509"
      ]
     },
     "execution_count": 5,
     "metadata": {},
     "output_type": "execute_result"
    }
   ],
   "source": [
    "len(urls)"
   ]
  },
  {
   "cell_type": "markdown",
   "metadata": {},
   "source": [
    "totsp - общая площадь\n",
    "\n",
    "kitsp - площадь кухни\n",
    "\n",
    "livsp  - площадь жилая\n",
    "\n",
    "floor - этаж\n",
    "\n",
    "Nfloor - всего этажей\n",
    "\n",
    "city - город Владимирской области\n",
    "\n",
    "type - тип дома\n",
    "\n",
    "year - год постройки\n",
    "\n",
    "price - цена\n",
    "\n",
    "room - количество комнат\n",
    "\n",
    "link - ссылка на сайт циан.ру\n",
    "\n",
    "overlaps - тип перекрытий\n",
    "\n",
    "entrance - кол-во подъездов"
   ]
  },
  {
   "cell_type": "code",
   "execution_count": 6,
   "metadata": {},
   "outputs": [],
   "source": [
    "def write_csv(data):\n",
    "    with open('Vlad_flat.csv', 'a', encoding = 'Utf-8') as f:\n",
    "        writer = csv.writer(f)\n",
    "        writer.writerow((data['totsp'],\n",
    "                         data['kitsp'],\n",
    "                         data['livsp'],\n",
    "                         data['floor'],\n",
    "                         data['Nfloor'],\n",
    "                         data['city'],\n",
    "                         data['htype'],\n",
    "                         data['year'],\n",
    "                         data['overlaps'],\n",
    "                         data['entrance'],\n",
    "                         data['room'],\n",
    "                         data['link'],\n",
    "                         data['price']))\n",
    "\n",
    "\n",
    "        \n",
    "\n",
    "        \n",
    "        \n",
    "        \n",
    "def get_flat(link):\n",
    "    url = requests.get(link)\n",
    "    html = url.text\n",
    "    bs = BeautifulSoup(html)\n",
    "\n",
    "    try:\n",
    "        div = bs.find_all(\"div\",class_=\"a10a3f92e9--info-value--18c8R\")\n",
    "        div1 = bs.find_all(\"div\",class_=\"a10a3f92e9--info-title--2bXM9\")\n",
    "        div_new = []\n",
    "        for i in range(len(div1)):\n",
    "            div_new.append(div1[i].text)\n",
    "        if ('Срок сдачи' in div_new):\n",
    "            ind = div_new.index('Срок сдачи')\n",
    "            div.remove(div[ind])\n",
    "        elif ('Построен' in div_new):\n",
    "            ind = div_new.index('Построен')\n",
    "            div.remove(div[ind])\n",
    "        else:\n",
    "            pass\n",
    "\n",
    "        if len(div) == 4:\n",
    "            totsp = div[0].text.split('\\xa0')[0]\n",
    "            livsp = div[1].text.split('\\xa0')[0]\n",
    "            kitsp = div[2].text.split('\\xa0')[0]\n",
    "            floor = div[3].text.split(' ')[0]\n",
    "            Nfloor = div[3].text.split(' ')[2]\n",
    "        if len(div) == 2:\n",
    "            totsp = div[0].text.split('\\xa0')[0]\n",
    "            floor = div[1].text.split(' ')[0]\n",
    "            Nfloor = div[1].text.split(' ')[2]\n",
    "            livsp = ''\n",
    "            kitsp = ''\n",
    "        if len(div) == 3:\n",
    "            totsp = div[0].text.split('\\xa0')[0]\n",
    "            \n",
    "            if div1[1].text == 'Жилая':\n",
    "                livsp = div[1].text.split('\\xa0')[0]\n",
    "                kitsp = ''\n",
    "            else:\n",
    "                kitsp = div[1].text.split('\\xa0')[0]\n",
    "                livsp = ''\n",
    "            floor = div[2].text.split(' ')[0]\n",
    "            Nfloor = div[2].text.split(' ')[2]\n",
    "    except:\n",
    "        totsp = ''\n",
    "        livsp = ''\n",
    "        kitsp = ''\n",
    "        floor = ''\n",
    "        Nfloor = ''\n",
    "    try:\n",
    "        span = bs.find_all(\"span\", class_ = \"a10a3f92e9--price_value--1iPpd\")\n",
    "        pr = span[0].find(\"span\").get(\"content\").split(' ')[:3]\n",
    "        price = pr[0]+pr[1]+pr[2]\n",
    "    except:\n",
    "        price = 0\n",
    "    \n",
    "    div = bs.find_all(\"div\", class_ = \"a10a3f92e9--value--38caj\")\n",
    "    div1 = bs.find_all(\"div\", class_ = \"a10a3f92e9--name--22FM0\")\n",
    "    div_new = [div1[i].text for i in range(len(div1))]\n",
    "\n",
    "    try:\n",
    "        ind = div_new.index('Год постройки')\n",
    "        year = div[ind].text\n",
    "    except:\n",
    "        year = ''\n",
    "    try:\n",
    "        ind = div_new.index('Тип дома')\n",
    "        htype = div[ind].text\n",
    "    except:\n",
    "        htype = ''\n",
    "    try:\n",
    "        ind = div_new.index('Тип перекрытий')\n",
    "        overlaps = div[ind].text\n",
    "    except:\n",
    "        overlaps = ''\n",
    "    try:\n",
    "        ind = div_new.index('Подъезды')\n",
    "        entrance = div[ind].text\n",
    "    except:\n",
    "        entrance = ''\n",
    "\n",
    "    a = bs.find_all(\"a\", class_ = \"a10a3f92e9--link--1t8n1 a10a3f92e9--address-item--1clHr\")\n",
    "    try:\n",
    "        city = a[1].text\n",
    "    except:\n",
    "        city = ''    \n",
    "   \n",
    "    h = bs.find_all(\"h1\", class_ = \"a10a3f92e9--title--2Widg\")\n",
    "    try:\n",
    "        room = h[0].text.split('-')[0]\n",
    "    except:\n",
    "        room = ''\n",
    "        \n",
    "    data = {'totsp': totsp,\n",
    "            'livsp': livsp,\n",
    "            'kitsp': kitsp,\n",
    "            'floor': floor,\n",
    "            'Nfloor': Nfloor,\n",
    "            'city': city,\n",
    "            'year': year,\n",
    "            'htype': htype,\n",
    "            'overlaps': overlaps,\n",
    "            'entrance': entrance,\n",
    "            'room': room,\n",
    "            'link': link,\n",
    "            'price': price}\n",
    "    write_csv(data)"
   ]
  },
  {
   "cell_type": "code",
   "execution_count": 7,
   "metadata": {},
   "outputs": [
    {
     "name": "stderr",
     "output_type": "stream",
     "text": [
      "100%|██████████████████████████████████████████████████████████████████████████████| 1509/1509 [34:00<00:00,  1.28s/it]\n"
     ]
    }
   ],
   "source": [
    "for url in tqdm(urls):\n",
    "    get_flat(url)"
   ]
  }
 ],
 "metadata": {
  "kernelspec": {
   "display_name": "Python 3",
   "language": "python",
   "name": "python3"
  },
  "language_info": {
   "codemirror_mode": {
    "name": "ipython",
    "version": 3
   },
   "file_extension": ".py",
   "mimetype": "text/x-python",
   "name": "python",
   "nbconvert_exporter": "python",
   "pygments_lexer": "ipython3",
   "version": "3.7.1"
  }
 },
 "nbformat": 4,
 "nbformat_minor": 2
}
